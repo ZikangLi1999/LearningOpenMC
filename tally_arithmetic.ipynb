{
 "cells": [
  {
   "cell_type": "markdown",
   "metadata": {},
   "source": [
    "# Tally Arithmetic\n",
    "This notebook introduce tally arithmetic, including how to add, subtrate and multiple tallies.\n",
    "Note that it is assumed that tallies are independent, since covariance is not obtained."
   ]
  },
  {
   "cell_type": "code",
   "execution_count": 19,
   "metadata": {},
   "outputs": [],
   "source": [
    "import openmc\n",
    "import glob\n",
    "import numpy as np\n",
    "import matplotlib.pyplot as plt"
   ]
  },
  {
   "cell_type": "markdown",
   "metadata": {},
   "source": [
    "## Modeling\n",
    "Materials, geometry and settings of a pin-cell problem."
   ]
  },
  {
   "cell_type": "code",
   "execution_count": 20,
   "metadata": {},
   "outputs": [],
   "source": [
    "# Materials\n",
    "\n",
    "fuel = openmc.Material(name='fuel', temperature=273.0)\n",
    "fuel.add_nuclide('U235', 3.7503e-4)\n",
    "fuel.add_nuclide('U238', 2.2625e-2)\n",
    "fuel.add_nuclide('O16', 4.6007e-2)\n",
    "fuel.set_density('g/cm3', 10.31341)\n",
    "\n",
    "clad = openmc.Material(name='clad', temperature=273.0)\n",
    "clad.add_nuclide('Zr90', 7.2758e-3)\n",
    "clad.set_density('g/cm3', 6.55)\n",
    "\n",
    "water = openmc.Material(name='water', temperature=273.0)\n",
    "water.add_nuclide('H1', 4.9457e-2)\n",
    "water.add_nuclide('O16', 2.4732e-2)\n",
    "water.add_nuclide('B10', 8.0042e-6)\n",
    "water.set_density('g/cm3', 0.470582)\n",
    "\n",
    "materails = openmc.Materials([fuel, clad, water])\n",
    "materails.export_to_xml()"
   ]
  },
  {
   "cell_type": "code",
   "execution_count": 21,
   "metadata": {},
   "outputs": [],
   "source": [
    "# Geometry\n",
    "\n",
    "fuel_radius = 0.39328\n",
    "clad_radius = 0.45720\n",
    "half_pitch = 0.63\n",
    "pin_half_length = 100.\n",
    "\n",
    "fuel_outer_surface = openmc.ZCylinder(r=fuel_radius)\n",
    "clad_outer_surface = openmc.ZCylinder(r=clad_radius)\n",
    "\n",
    "xmin = openmc.XPlane(x0=-half_pitch, boundary_type='reflective')\n",
    "xmax = openmc.XPlane(x0=+half_pitch, boundary_type='reflective')\n",
    "ymin = openmc.YPlane(y0=-half_pitch, boundary_type='reflective')\n",
    "ymax = openmc.YPlane(y0=+half_pitch, boundary_type='reflective')\n",
    "zmin = openmc.ZPlane(z0=-pin_half_length, boundary_type='vacuum')\n",
    "zmax = openmc.ZPlane(z0=+pin_half_length, boundary_type='vacuum')\n",
    "\n",
    "fuel_cell = openmc.Cell(name='fuel', fill=fuel, region=-fuel_outer_surface)\n",
    "clad_cell = openmc.Cell(name='clad', fill=clad, region=+fuel_outer_surface & -clad_outer_surface)\n",
    "moderator_cell = openmc.Cell(name='moderator', fill=water, region=+clad_outer_surface)\n",
    "\n",
    "pin_cell_universe = openmc.Universe(\n",
    "    name='pin cell universe', \n",
    "    cells=[fuel_cell, clad_cell, moderator_cell]\n",
    ")\n",
    "root_cell = openmc.Cell(\n",
    "    name='root cell', \n",
    "    fill=pin_cell_universe, \n",
    "    region=+xmin & -xmax & +ymin & -ymax & +zmin & -zmax\n",
    ")\n",
    "root_universe = openmc.Universe(\n",
    "    name='root universe',\n",
    "    cells=[root_cell]\n",
    ")\n",
    "\n",
    "geometry = openmc.Geometry(root_universe)\n",
    "geometry.export_to_xml()"
   ]
  },
  {
   "cell_type": "code",
   "execution_count": 22,
   "metadata": {},
   "outputs": [],
   "source": [
    "# Setting\n",
    "setting = openmc.Settings()\n",
    "setting.batches = 20\n",
    "setting.inactive = 5\n",
    "setting.particles = 2500\n",
    "setting.output = {'tallies': True}\n",
    "\n",
    "# Initial Source\n",
    "bounds = [-half_pitch, -half_pitch, -pin_half_length, half_pitch, half_pitch, pin_half_length]\n",
    "uniform_space = openmc.stats.Box(bounds[:3], bounds[3:], only_fissionable=True)\n",
    "setting.source = openmc.Source(space=uniform_space)\n",
    "\n",
    "setting.export_to_xml()"
   ]
  },
  {
   "cell_type": "markdown",
   "metadata": {},
   "source": [
    "Plot the geometry and run OpenMC."
   ]
  },
  {
   "cell_type": "code",
   "execution_count": 23,
   "metadata": {},
   "outputs": [],
   "source": [
    "# Plot\n",
    "\n",
    "plot = openmc.Plot(name='geometry plot')\n",
    "plot.filename = 'pin-cell-geometry'\n",
    "plot.pixels = [500, 500]\n",
    "plot.origin = [0, 0, 0]\n",
    "plot.width = [1.26, 1.26]\n",
    "plot.color_by = 'material'\n",
    "\n",
    "# openmc.plot_inline(plot)\n",
    "# .ppm plot has been created in directory, but it can not be show inline and assert an error below. Never mind."
   ]
  },
  {
   "cell_type": "markdown",
   "metadata": {},
   "source": [
    "### Tally\n",
    "Note that we will use 4-factor formula to calculate the k-eigenvalue (infinite)."
   ]
  },
  {
   "cell_type": "code",
   "execution_count": 24,
   "metadata": {},
   "outputs": [
    {
     "name": "stderr",
     "output_type": "stream",
     "text": [
      "/home/zikangli/.local/lib/python3.8/site-packages/openmc/mixin.py:67: IDWarning: Another Filter instance already exists with id=2.\n",
      "  warn(msg, IDWarning)\n",
      "/home/zikangli/.local/lib/python3.8/site-packages/openmc/mixin.py:67: IDWarning: Another Filter instance already exists with id=7.\n",
      "  warn(msg, IDWarning)\n",
      "/home/zikangli/.local/lib/python3.8/site-packages/openmc/mixin.py:67: IDWarning: Another Filter instance already exists with id=3.\n",
      "  warn(msg, IDWarning)\n"
     ]
    }
   ],
   "source": [
    "tallies = openmc.Tallies()\n",
    "energy_filter = openmc.EnergyFilter([0., 0.625, 20.0e6])\n",
    "\n",
    "# Flux Tally\n",
    "tally = openmc.Tally(name='flux')\n",
    "tally.filters = [openmc.CellFilter([fuel_cell, moderator_cell]), energy_filter]\n",
    "tally.scores = ['flux']\n",
    "tallies.append(tally)\n",
    "\n",
    "# Fuel Reaction Rate Tally\n",
    "tally = openmc.Tally(name='fuel reaction')\n",
    "tally.filters = [openmc.CellFilter(fuel_cell), energy_filter]\n",
    "tally.scores = ['nu-fission', 'scatter']\n",
    "tally.nuclides = ['U235', 'U238']\n",
    "tallies.append(tally)\n",
    "\n",
    "# Moderator Reaction Rate\n",
    "tally = openmc.Tally(name='moderator reaction')\n",
    "tally.filters = [openmc.CellFilter(moderator_cell), energy_filter]\n",
    "tally.scores = ['absorption', 'total']\n",
    "tally.nuclides = ['H1', 'O16']\n",
    "tallies.append(tally)\n",
    "\n",
    "# Fuel & Moderator Reaction Rate\n",
    "tally = openmc.Tally(name='total reaction')\n",
    "tally.filters = [openmc.CellFilter([fuel_cell, moderator_cell]), energy_filter]\n",
    "tally.scores = ['absorption', 'scatter']\n",
    "tally.nuclides = ['H1', 'U235']\n",
    "tallies.append(tally)\n",
    "\n",
    "# K-eigenvalue - Definition\n",
    "# Total Leakage\n",
    "mesh = openmc.RegularMesh()\n",
    "mesh.dimension = [1, 1, 1]\n",
    "mesh.lower_left = [-half_pitch, -half_pitch, -pin_half_length]\n",
    "mesh.width = [2 * half_pitch, 2 * half_pitch, 2 * pin_half_length]\n",
    "mesh_filter = openmc.MeshSurfaceFilter(mesh)\n",
    "\n",
    "tally = openmc.Tally(name='total leak')\n",
    "tally.filters = [mesh_filter]\n",
    "tally.scores = ['current']\n",
    "tallies.append(tally)\n",
    "\n",
    "# Thermal Leakage\n",
    "tally = openmc.Tally(name='thermal leak')\n",
    "tally.filters = [mesh_filter, openmc.EnergyFilter([0., 0.625])]\n",
    "tally.scores = ['current']\n",
    "tallies.append(tally)\n",
    "\n",
    "# Fast Leakage\n",
    "tally = openmc.Tally(name='fast leak')\n",
    "tally.filters = [mesh_filter, openmc.EnergyFilter([0.625, 20.0e6])]\n",
    "tally.scores = ['current']\n",
    "tallies.append(tally)\n",
    "\n",
    "# Fission and Absorption Rate\n",
    "tally = openmc.Tally(name='fission')\n",
    "tally.scores = ['nu-fission']\n",
    "tallies.append(tally)\n",
    "tally = openmc.Tally(name='absorption')\n",
    "tally.scores = ['absorption']\n",
    "tallies.append(tally)\n",
    "\n",
    "# k-eigenvalue - 6-factor formula\n",
    "# Fast Fission Factor \\epsilon\n",
    "tally = openmc.Tally(name='thermal fission')\n",
    "tally.filters = [openmc.EnergyFilter([0., 0.625])]\n",
    "tally.scores = ['nu-fission']\n",
    "tallies.append(tally)\n",
    "\n",
    "# Resonance Capture Factor \\p\n",
    "tally = openmc.Tally(name='thermal absorption')\n",
    "tally.filters = [openmc.EnergyFilter([0., 0.625])]\n",
    "tally.scores = ['absorption']\n",
    "tallies.append(tally)\n",
    "\n",
    "# Thermal Nuetron Utilization Factor \\f\n",
    "tally = openmc.Tally(name='fuel thermal absorption')\n",
    "tally.filters = [openmc.EnergyFilter((0., 0.625)), openmc.CellFilter(fuel_cell)]\n",
    "tally.scores = ['absorption']\n",
    "tallies.append(tally)\n",
    "\n",
    "tallies.export_to_xml()"
   ]
  },
  {
   "cell_type": "code",
   "execution_count": 25,
   "metadata": {},
   "outputs": [
    {
     "name": "stdout",
     "output_type": "stream",
     "text": [
      "                                %%%%%%%%%%%%%%%\n",
      "                           %%%%%%%%%%%%%%%%%%%%%%%%\n",
      "                        %%%%%%%%%%%%%%%%%%%%%%%%%%%%%%\n",
      "                      %%%%%%%%%%%%%%%%%%%%%%%%%%%%%%%%%%\n",
      "                    %%%%%%%%%%%%%%%%%%%%%%%%%%%%%%%%%%%%%%\n",
      "                   %%%%%%%%%%%%%%%%%%%%%%%%%%%%%%%%%%%%%%%%\n",
      "                                    %%%%%%%%%%%%%%%%%%%%%%%%\n",
      "                                     %%%%%%%%%%%%%%%%%%%%%%%%\n",
      "                 ###############      %%%%%%%%%%%%%%%%%%%%%%%%\n",
      "                ##################     %%%%%%%%%%%%%%%%%%%%%%%\n",
      "                ###################     %%%%%%%%%%%%%%%%%%%%%%%\n",
      "                ####################     %%%%%%%%%%%%%%%%%%%%%%\n",
      "                #####################     %%%%%%%%%%%%%%%%%%%%%\n",
      "                ######################     %%%%%%%%%%%%%%%%%%%%\n",
      "                #######################     %%%%%%%%%%%%%%%%%%\n",
      "                 #######################     %%%%%%%%%%%%%%%%%\n",
      "                 ######################     %%%%%%%%%%%%%%%%%\n",
      "                  ####################     %%%%%%%%%%%%%%%%%\n",
      "                    #################     %%%%%%%%%%%%%%%%%\n",
      "                     ###############     %%%%%%%%%%%%%%%%\n",
      "                       ############     %%%%%%%%%%%%%%%\n",
      "                          ########     %%%%%%%%%%%%%%\n",
      "                                      %%%%%%%%%%%\n",
      "\n",
      "                 | The OpenMC Monte Carlo Code\n",
      "       Copyright | 2011-2021 MIT, UChicago Argonne LLC, and contributors\n",
      "         License | https://docs.openmc.org/en/latest/license.html\n",
      "         Version | 0.13.0-dev\n",
      "        Git SHA1 | 0cf7d9283786677e324bfbdd0984a54d1c86dacc\n",
      "       Date/Time | 2022-01-22 22:10:28\n",
      "  OpenMP Threads | 4\n",
      "\n",
      " Reading settings XML file...\n",
      " Reading cross sections XML file...\n",
      " Reading materials XML file...\n",
      " Reading geometry XML file...\n",
      " Reading U235 from\n",
      " /home/zikangli/Documents/ENDF/endf-b7.1-hdf5-v3/neutron/U235.h5\n",
      " Reading U238 from\n",
      " /home/zikangli/Documents/ENDF/endf-b7.1-hdf5-v3/neutron/U238.h5\n",
      " Reading O16 from /home/zikangli/Documents/ENDF/endf-b7.1-hdf5-v3/neutron/O16.h5\n",
      " Reading Zr90 from\n",
      " /home/zikangli/Documents/ENDF/endf-b7.1-hdf5-v3/neutron/Zr90.h5\n",
      " Reading H1 from /home/zikangli/Documents/ENDF/endf-b7.1-hdf5-v3/neutron/H1.h5\n",
      " Reading B10 from /home/zikangli/Documents/ENDF/endf-b7.1-hdf5-v3/neutron/B10.h5\n",
      " Minimum neutron data temperature: 273 K\n",
      " Maximum neutron data temperature: 273 K\n",
      " Reading tallies XML file...\n",
      " Preparing distributed cell instances...\n",
      " Reading plot XML file...\n",
      " Writing summary.h5 file...\n",
      " Maximum neutron transport energy: 20000000 eV for U235\n",
      " Initializing source particles...\n",
      "\n",
      " ====================>     K EIGENVALUE SIMULATION     <====================\n",
      "\n",
      "  Bat./Gen.      k            Average k\n",
      "  =========   ========   ====================\n",
      "        1/1    1.00061\n",
      "        2/1    0.98673\n",
      "        3/1    1.02664\n",
      "        4/1    1.02699\n",
      "        5/1    0.96691\n",
      "        6/1    0.99873\n",
      "        7/1    1.05214    1.02543 +/- 0.02670\n",
      "        8/1    0.97359    1.00815 +/- 0.02316\n",
      "        9/1    0.98277    1.00181 +/- 0.01756\n",
      "       10/1    1.01431    1.00431 +/- 0.01383\n",
      "       11/1    1.02260    1.00736 +/- 0.01170\n",
      "       12/1    1.01386    1.00829 +/- 0.00993\n",
      "       13/1    1.01583    1.00923 +/- 0.00865\n",
      "       14/1    1.03985    1.01263 +/- 0.00835\n",
      "       15/1    1.02586    1.01395 +/- 0.00759\n",
      "       16/1    0.97675    1.01057 +/- 0.00765\n",
      "       17/1    0.99897    1.00961 +/- 0.00705\n",
      "       18/1    1.02835    1.01105 +/- 0.00664\n",
      "       19/1    1.01926    1.01163 +/- 0.00618\n",
      "       20/1    1.03390    1.01312 +/- 0.00594\n",
      " Creating state point statepoint.20.h5...\n",
      "\n",
      " =======================>     TIMING STATISTICS     <=======================\n",
      "\n",
      " Total time for initialization     = 5.4959e-01 seconds\n",
      "   Reading cross sections          = 5.3067e-01 seconds\n",
      " Total time in simulation          = 4.2997e+00 seconds\n",
      "   Time in transport only          = 4.0163e+00 seconds\n",
      "   Time in inactive batches        = 4.2991e-01 seconds\n",
      "   Time in active batches          = 3.8697e+00 seconds\n",
      "   Time synchronizing fission bank = 4.6333e-03 seconds\n",
      "     Sampling source sites         = 4.2594e-03 seconds\n",
      "     SEND/RECV source sites        = 3.5554e-04 seconds\n",
      "   Time accumulating tallies       = 2.6586e-01 seconds\n",
      "   Time writing statepoints        = 9.5432e-03 seconds\n",
      " Total time for finalization       = 4.3011e-04 seconds\n",
      " Total time elapsed                = 4.8570e+00 seconds\n",
      " Calculation Rate (inactive)       = 29075.5 particles/second\n",
      " Calculation Rate (active)         = 9690.57 particles/second\n",
      "\n",
      " ============================>     RESULTS     <============================\n",
      "\n",
      " k-effective (Collision)     = 1.01801 +/- 0.00575\n",
      " k-effective (Track-length)  = 1.01312 +/- 0.00594\n",
      " k-effective (Absorption)    = 1.03443 +/- 0.00634\n",
      " Combined k-effective        = 1.02537 +/- 0.00830\n",
      " Leakage Fraction            = 0.02363 +/- 0.00105\n",
      "\n"
     ]
    }
   ],
   "source": [
    "# Run\n",
    "openmc.run()"
   ]
  },
  {
   "cell_type": "markdown",
   "metadata": {},
   "source": [
    "## Tally Data Processing and Analysis\n",
    "Read state point file."
   ]
  },
  {
   "cell_type": "code",
   "execution_count": 26,
   "metadata": {},
   "outputs": [],
   "source": [
    "statepoints = glob.glob('statepoint.*.h5')\n",
    "sp = openmc.StatePoint(statepoints[-1])"
   ]
  },
  {
   "cell_type": "markdown",
   "metadata": {},
   "source": [
    "### Calculate k-eigenvalue using definition\n",
    "The k-eigenvalue is defined as given\n",
    "$$\n",
    "k_{eff} = \\frac{<\\nu \\Sigma _f \\phi >}{<\\Sigma _a \\phi> + <L>}\n",
    "$$\n",
    "\n",
    "Extract relative data from tallies and calculate it with tally arithmetic as below."
   ]
  },
  {
   "cell_type": "code",
   "execution_count": 27,
   "metadata": {},
   "outputs": [
    {
     "data": {
      "text/html": [
       "<div>\n",
       "<style scoped>\n",
       "    .dataframe tbody tr th:only-of-type {\n",
       "        vertical-align: middle;\n",
       "    }\n",
       "\n",
       "    .dataframe tbody tr th {\n",
       "        vertical-align: top;\n",
       "    }\n",
       "\n",
       "    .dataframe thead th {\n",
       "        text-align: right;\n",
       "    }\n",
       "</style>\n",
       "<table border=\"1\" class=\"dataframe\">\n",
       "  <thead>\n",
       "    <tr style=\"text-align: right;\">\n",
       "      <th></th>\n",
       "      <th>nuclide</th>\n",
       "      <th>score</th>\n",
       "      <th>mean</th>\n",
       "      <th>std. dev.</th>\n",
       "    </tr>\n",
       "  </thead>\n",
       "  <tbody>\n",
       "    <tr>\n",
       "      <th>0</th>\n",
       "      <td>total</td>\n",
       "      <td>(nu-fission / (absorption + current))</td>\n",
       "      <td>1.025129</td>\n",
       "      <td>0.007841</td>\n",
       "    </tr>\n",
       "  </tbody>\n",
       "</table>\n",
       "</div>"
      ],
      "text/plain": [
       "  nuclide                                  score     mean  std. dev.\n",
       "0   total  (nu-fission / (absorption + current)) 1.03e+00   7.84e-03"
      ]
     },
     "execution_count": 27,
     "metadata": {},
     "output_type": "execute_result"
    }
   ],
   "source": [
    "fission = sp.get_tally(name='fission')\n",
    "absorption = sp.get_tally(name='absorption')\n",
    "leakage = sp.get_tally(name='total leak')\n",
    "leakage = leakage.summation(filter_type=openmc.MeshSurfaceFilter, remove_filter=True)\n",
    "\n",
    "keff = fission / (absorption + leakage)\n",
    "keff_def = keff.get_pandas_dataframe()\n",
    "keff_def"
   ]
  },
  {
   "cell_type": "markdown",
   "metadata": {},
   "source": [
    "### Calculate k-eigenvalue using 6-factor formula\n",
    "Then 6-factor formula is given as\n",
    "$$\n",
    "k_{eff} = \\epsilon pf \\eta \\Lambda _s \\Lambda _f\n",
    "$$\n",
    "whereas the fast fission factor is\n",
    "$$\n",
    "\\epsilon = \\frac{<\\nu \\Sigma _f \\phi >}{{<\\nu \\Sigma _f \\phi >}_{thermal}}\n",
    "$$"
   ]
  },
  {
   "cell_type": "code",
   "execution_count": 28,
   "metadata": {},
   "outputs": [
    {
     "data": {
      "text/html": [
       "<div>\n",
       "<style scoped>\n",
       "    .dataframe tbody tr th:only-of-type {\n",
       "        vertical-align: middle;\n",
       "    }\n",
       "\n",
       "    .dataframe tbody tr th {\n",
       "        vertical-align: top;\n",
       "    }\n",
       "\n",
       "    .dataframe thead th {\n",
       "        text-align: right;\n",
       "    }\n",
       "</style>\n",
       "<table border=\"1\" class=\"dataframe\">\n",
       "  <thead>\n",
       "    <tr style=\"text-align: right;\">\n",
       "      <th></th>\n",
       "      <th>energy low [eV]</th>\n",
       "      <th>energy high [eV]</th>\n",
       "      <th>nuclide</th>\n",
       "      <th>score</th>\n",
       "      <th>mean</th>\n",
       "      <th>std. dev.</th>\n",
       "    </tr>\n",
       "  </thead>\n",
       "  <tbody>\n",
       "    <tr>\n",
       "      <th>0</th>\n",
       "      <td>0.0</td>\n",
       "      <td>0.625</td>\n",
       "      <td>total</td>\n",
       "      <td>(nu-fission / nu-fission)</td>\n",
       "      <td>1.297072</td>\n",
       "      <td>0.012905</td>\n",
       "    </tr>\n",
       "  </tbody>\n",
       "</table>\n",
       "</div>"
      ],
      "text/plain": [
       "   energy low [eV]  energy high [eV] nuclide                      score  \\\n",
       "0         0.00e+00          6.25e-01   total  (nu-fission / nu-fission)   \n",
       "\n",
       "      mean  std. dev.  \n",
       "0 1.30e+00   1.29e-02  "
      ]
     },
     "execution_count": 28,
     "metadata": {},
     "output_type": "execute_result"
    }
   ],
   "source": [
    "fission_thermal = sp.get_tally(name='thermal fission')\n",
    "\n",
    "epsilon = fission / fission_thermal\n",
    "epsilon.get_pandas_dataframe()"
   ]
  },
  {
   "cell_type": "markdown",
   "metadata": {},
   "source": [
    "Resonance Escape Possibility\n",
    "$$\n",
    "p = \\frac{<\\Sigma _a \\phi >_{thermal} + <L>_{thermal}}{<\\Sigma _a \\phi > + <L>_{thermal}}\n",
    "$$\n",
    "there are 2 $<L>_{thermal}$ because p does not consider the effect of leakage."
   ]
  },
  {
   "cell_type": "code",
   "execution_count": 29,
   "metadata": {},
   "outputs": [
    {
     "data": {
      "text/html": [
       "<div>\n",
       "<style scoped>\n",
       "    .dataframe tbody tr th:only-of-type {\n",
       "        vertical-align: middle;\n",
       "    }\n",
       "\n",
       "    .dataframe tbody tr th {\n",
       "        vertical-align: top;\n",
       "    }\n",
       "\n",
       "    .dataframe thead th {\n",
       "        text-align: right;\n",
       "    }\n",
       "</style>\n",
       "<table border=\"1\" class=\"dataframe\">\n",
       "  <thead>\n",
       "    <tr style=\"text-align: right;\">\n",
       "      <th></th>\n",
       "      <th>energy low [eV]</th>\n",
       "      <th>energy high [eV]</th>\n",
       "      <th>nuclide</th>\n",
       "      <th>score</th>\n",
       "      <th>mean</th>\n",
       "      <th>std. dev.</th>\n",
       "    </tr>\n",
       "  </thead>\n",
       "  <tbody>\n",
       "    <tr>\n",
       "      <th>0</th>\n",
       "      <td>0.0</td>\n",
       "      <td>0.625</td>\n",
       "      <td>total</td>\n",
       "      <td>((absorption + current) / (absorption + current))</td>\n",
       "      <td>0.591539</td>\n",
       "      <td>0.005419</td>\n",
       "    </tr>\n",
       "  </tbody>\n",
       "</table>\n",
       "</div>"
      ],
      "text/plain": [
       "   energy low [eV]  energy high [eV] nuclide  \\\n",
       "0         0.00e+00          6.25e-01   total   \n",
       "\n",
       "                                               score     mean  std. dev.  \n",
       "0  ((absorption + current) / (absorption + current)) 5.92e-01   5.42e-03  "
      ]
     },
     "execution_count": 29,
     "metadata": {},
     "output_type": "execute_result"
    }
   ],
   "source": [
    "absorption_thermal = sp.get_tally(name='thermal absorption')\n",
    "leakage_thermal = sp.get_tally(name='thermal leak')\n",
    "leakage_thermal = leakage_thermal.summation(filter_type=openmc.MeshSurfaceFilter, remove_filter=True)\n",
    "\n",
    "p = (absorption_thermal + leakage_thermal) / (absorption + leakage_thermal)\n",
    "p.get_pandas_dataframe()"
   ]
  },
  {
   "cell_type": "markdown",
   "metadata": {},
   "source": [
    "Thermal Nuetron Utilization Factor\n",
    "$$\n",
    "f = \\frac{{<\\Sigma _f \\phi >}_{fuel, thermal}}{{<\\Sigma _f \\phi >}_{thermal}}\n",
    "$$"
   ]
  },
  {
   "cell_type": "code",
   "execution_count": 30,
   "metadata": {},
   "outputs": [
    {
     "data": {
      "text/html": [
       "<div>\n",
       "<style scoped>\n",
       "    .dataframe tbody tr th:only-of-type {\n",
       "        vertical-align: middle;\n",
       "    }\n",
       "\n",
       "    .dataframe tbody tr th {\n",
       "        vertical-align: top;\n",
       "    }\n",
       "\n",
       "    .dataframe thead th {\n",
       "        text-align: right;\n",
       "    }\n",
       "</style>\n",
       "<table border=\"1\" class=\"dataframe\">\n",
       "  <thead>\n",
       "    <tr style=\"text-align: right;\">\n",
       "      <th></th>\n",
       "      <th>energy low [eV]</th>\n",
       "      <th>energy high [eV]</th>\n",
       "      <th>cell</th>\n",
       "      <th>nuclide</th>\n",
       "      <th>score</th>\n",
       "      <th>mean</th>\n",
       "      <th>std. dev.</th>\n",
       "    </tr>\n",
       "  </thead>\n",
       "  <tbody>\n",
       "    <tr>\n",
       "      <th>0</th>\n",
       "      <td>0.0</td>\n",
       "      <td>0.625</td>\n",
       "      <td>13</td>\n",
       "      <td>total</td>\n",
       "      <td>(absorption / absorption)</td>\n",
       "      <td>0.825336</td>\n",
       "      <td>0.009179</td>\n",
       "    </tr>\n",
       "  </tbody>\n",
       "</table>\n",
       "</div>"
      ],
      "text/plain": [
       "   energy low [eV]  energy high [eV]  cell nuclide                      score  \\\n",
       "0         0.00e+00          6.25e-01    13   total  (absorption / absorption)   \n",
       "\n",
       "      mean  std. dev.  \n",
       "0 8.25e-01   9.18e-03  "
      ]
     },
     "execution_count": 30,
     "metadata": {},
     "output_type": "execute_result"
    }
   ],
   "source": [
    "fuel_thermal_absorption = sp.get_tally(name='fuel thermal absorption')\n",
    "\n",
    "f = fuel_thermal_absorption / absorption_thermal\n",
    "f.get_pandas_dataframe()"
   ]
  },
  {
   "cell_type": "markdown",
   "metadata": {},
   "source": [
    "Effective Nuetron Production Factor\n",
    "$$\n",
    "\\eta = \\frac{{<\\nu \\Sigma _f \\phi >}_{thermal}}{{<\\Sigma _a \\phi >_{thermal}}}\n",
    "$$"
   ]
  },
  {
   "cell_type": "code",
   "execution_count": 31,
   "metadata": {},
   "outputs": [
    {
     "data": {
      "text/html": [
       "<div>\n",
       "<style scoped>\n",
       "    .dataframe tbody tr th:only-of-type {\n",
       "        vertical-align: middle;\n",
       "    }\n",
       "\n",
       "    .dataframe tbody tr th {\n",
       "        vertical-align: top;\n",
       "    }\n",
       "\n",
       "    .dataframe thead th {\n",
       "        text-align: right;\n",
       "    }\n",
       "</style>\n",
       "<table border=\"1\" class=\"dataframe\">\n",
       "  <thead>\n",
       "    <tr style=\"text-align: right;\">\n",
       "      <th></th>\n",
       "      <th>energy low [eV]</th>\n",
       "      <th>energy high [eV]</th>\n",
       "      <th>cell</th>\n",
       "      <th>nuclide</th>\n",
       "      <th>score</th>\n",
       "      <th>mean</th>\n",
       "      <th>std. dev.</th>\n",
       "    </tr>\n",
       "  </thead>\n",
       "  <tbody>\n",
       "    <tr>\n",
       "      <th>0</th>\n",
       "      <td>0.0</td>\n",
       "      <td>0.625</td>\n",
       "      <td>13</td>\n",
       "      <td>total</td>\n",
       "      <td>(nu-fission / absorption)</td>\n",
       "      <td>1.660728</td>\n",
       "      <td>0.018821</td>\n",
       "    </tr>\n",
       "  </tbody>\n",
       "</table>\n",
       "</div>"
      ],
      "text/plain": [
       "   energy low [eV]  energy high [eV]  cell nuclide                      score  \\\n",
       "0         0.00e+00          6.25e-01    13   total  (nu-fission / absorption)   \n",
       "\n",
       "      mean  std. dev.  \n",
       "0 1.66e+00   1.88e-02  "
      ]
     },
     "execution_count": 31,
     "metadata": {},
     "output_type": "execute_result"
    }
   ],
   "source": [
    "eta = fission_thermal / fuel_thermal_absorption\n",
    "eta.get_pandas_dataframe()"
   ]
  },
  {
   "cell_type": "markdown",
   "metadata": {},
   "source": [
    "Fast Non-Leakage Probability\n",
    "$$\n",
    "\\Lambda _s = \\frac{<\\Sigma _a \\phi > + {<L> _{thermal}}}{<\\Sigma _a \\phi > + <L> }\n",
    "$$"
   ]
  },
  {
   "cell_type": "code",
   "execution_count": 32,
   "metadata": {},
   "outputs": [
    {
     "data": {
      "text/html": [
       "<div>\n",
       "<style scoped>\n",
       "    .dataframe tbody tr th:only-of-type {\n",
       "        vertical-align: middle;\n",
       "    }\n",
       "\n",
       "    .dataframe tbody tr th {\n",
       "        vertical-align: top;\n",
       "    }\n",
       "\n",
       "    .dataframe thead th {\n",
       "        text-align: right;\n",
       "    }\n",
       "</style>\n",
       "<table border=\"1\" class=\"dataframe\">\n",
       "  <thead>\n",
       "    <tr style=\"text-align: right;\">\n",
       "      <th></th>\n",
       "      <th>energy low [eV]</th>\n",
       "      <th>energy high [eV]</th>\n",
       "      <th>nuclide</th>\n",
       "      <th>score</th>\n",
       "      <th>mean</th>\n",
       "      <th>std. dev.</th>\n",
       "    </tr>\n",
       "  </thead>\n",
       "  <tbody>\n",
       "    <tr>\n",
       "      <th>0</th>\n",
       "      <td>0.0</td>\n",
       "      <td>0.625</td>\n",
       "      <td>total</td>\n",
       "      <td>((absorption + current) / (absorption + current))</td>\n",
       "      <td>0.978009</td>\n",
       "      <td>0.006808</td>\n",
       "    </tr>\n",
       "  </tbody>\n",
       "</table>\n",
       "</div>"
      ],
      "text/plain": [
       "   energy low [eV]  energy high [eV] nuclide  \\\n",
       "0         0.00e+00          6.25e-01   total   \n",
       "\n",
       "                                               score     mean  std. dev.  \n",
       "0  ((absorption + current) / (absorption + current)) 9.78e-01   6.81e-03  "
      ]
     },
     "execution_count": 32,
     "metadata": {},
     "output_type": "execute_result"
    }
   ],
   "source": [
    "fast_non_leak = (absorption + leakage_thermal) / (absorption + leakage)\n",
    "fast_non_leak.get_pandas_dataframe()"
   ]
  },
  {
   "cell_type": "markdown",
   "metadata": {},
   "source": [
    "Thermal Non-Leakage Probability\n",
    "$$\n",
    "\\Lambda _f = \\frac{{<\\Sigma _a \\phi >}_{thermal}}{{<\\Sigma _a \\phi >}_{thermal} + {<L>}_{thermal} }\n",
    "$$"
   ]
  },
  {
   "cell_type": "code",
   "execution_count": 33,
   "metadata": {},
   "outputs": [
    {
     "data": {
      "text/html": [
       "<div>\n",
       "<style scoped>\n",
       "    .dataframe tbody tr th:only-of-type {\n",
       "        vertical-align: middle;\n",
       "    }\n",
       "\n",
       "    .dataframe tbody tr th {\n",
       "        vertical-align: top;\n",
       "    }\n",
       "\n",
       "    .dataframe thead th {\n",
       "        text-align: right;\n",
       "    }\n",
       "</style>\n",
       "<table border=\"1\" class=\"dataframe\">\n",
       "  <thead>\n",
       "    <tr style=\"text-align: right;\">\n",
       "      <th></th>\n",
       "      <th>energy low [eV]</th>\n",
       "      <th>energy high [eV]</th>\n",
       "      <th>nuclide</th>\n",
       "      <th>score</th>\n",
       "      <th>mean</th>\n",
       "      <th>std. dev.</th>\n",
       "    </tr>\n",
       "  </thead>\n",
       "  <tbody>\n",
       "    <tr>\n",
       "      <th>0</th>\n",
       "      <td>0.0</td>\n",
       "      <td>0.625</td>\n",
       "      <td>total</td>\n",
       "      <td>(absorption / (absorption + current))</td>\n",
       "      <td>0.996689</td>\n",
       "      <td>0.010892</td>\n",
       "    </tr>\n",
       "  </tbody>\n",
       "</table>\n",
       "</div>"
      ],
      "text/plain": [
       "   energy low [eV]  energy high [eV] nuclide  \\\n",
       "0         0.00e+00          6.25e-01   total   \n",
       "\n",
       "                                   score     mean  std. dev.  \n",
       "0  (absorption / (absorption + current)) 9.97e-01   1.09e-02  "
      ]
     },
     "execution_count": 33,
     "metadata": {},
     "output_type": "execute_result"
    }
   ],
   "source": [
    "thermal_non_leak = absorption_thermal / (absorption_thermal + leakage_thermal)\n",
    "thermal_non_leak.get_pandas_dataframe()"
   ]
  },
  {
   "cell_type": "markdown",
   "metadata": {},
   "source": [
    "Finally, we get the k-eigenvalue with 6-factor formula."
   ]
  },
  {
   "cell_type": "code",
   "execution_count": 34,
   "metadata": {},
   "outputs": [
    {
     "data": {
      "text/html": [
       "<div>\n",
       "<style scoped>\n",
       "    .dataframe tbody tr th:only-of-type {\n",
       "        vertical-align: middle;\n",
       "    }\n",
       "\n",
       "    .dataframe tbody tr th {\n",
       "        vertical-align: top;\n",
       "    }\n",
       "\n",
       "    .dataframe thead th {\n",
       "        text-align: right;\n",
       "    }\n",
       "</style>\n",
       "<table border=\"1\" class=\"dataframe\">\n",
       "  <thead>\n",
       "    <tr style=\"text-align: right;\">\n",
       "      <th></th>\n",
       "      <th>energy low [eV]</th>\n",
       "      <th>energy high [eV]</th>\n",
       "      <th>cell</th>\n",
       "      <th>nuclide</th>\n",
       "      <th>score</th>\n",
       "      <th>mean</th>\n",
       "      <th>std. dev.</th>\n",
       "    </tr>\n",
       "  </thead>\n",
       "  <tbody>\n",
       "    <tr>\n",
       "      <th>0</th>\n",
       "      <td>0.0</td>\n",
       "      <td>0.625</td>\n",
       "      <td>13</td>\n",
       "      <td>total</td>\n",
       "      <td>((((((nu-fission / nu-fission) * ((absorption ...</td>\n",
       "      <td>1.025129</td>\n",
       "      <td>0.025171</td>\n",
       "    </tr>\n",
       "  </tbody>\n",
       "</table>\n",
       "</div>"
      ],
      "text/plain": [
       "   energy low [eV]  energy high [eV]  cell nuclide  \\\n",
       "0         0.00e+00          6.25e-01    13   total   \n",
       "\n",
       "                                               score     mean  std. dev.  \n",
       "0  ((((((nu-fission / nu-fission) * ((absorption ... 1.03e+00   2.52e-02  "
      ]
     },
     "execution_count": 34,
     "metadata": {},
     "output_type": "execute_result"
    }
   ],
   "source": [
    "keff_formula = epsilon * p * f * eta * fast_non_leak * thermal_non_leak\n",
    "keff_formula.get_pandas_dataframe()"
   ]
  },
  {
   "cell_type": "markdown",
   "metadata": {},
   "source": [
    "To conclusion, we get the same k-eigenvalue through defination and 6-factor formula, while the deviation of formula is larger than of definition."
   ]
  },
  {
   "cell_type": "markdown",
   "metadata": {},
   "source": [
    "### Calculate Microscopic Multi-group Cross Sections\n",
    "$$\n",
    "\\sigma _x = \\frac{<R_x>}{<\\phi >}\n",
    "$$"
   ]
  },
  {
   "cell_type": "code",
   "execution_count": 35,
   "metadata": {},
   "outputs": [],
   "source": [
    "reaction_rate = sp.get_tally(name='total reaction')\n",
    "flux = sp.get_tally(name='flux')\n",
    "flux = flux.get_slice(filters=[openmc.CellFilter], filter_bins=[(fuel_cell.id, )])\n",
    "reaction_fuel = sp.get_tally(name='fuel reaction')\n",
    "reaction_moderator = sp.get_tally(name='moderator reaction')"
   ]
  },
  {
   "cell_type": "code",
   "execution_count": 36,
   "metadata": {},
   "outputs": [
    {
     "data": {
      "text/html": [
       "<div>\n",
       "<style scoped>\n",
       "    .dataframe tbody tr th:only-of-type {\n",
       "        vertical-align: middle;\n",
       "    }\n",
       "\n",
       "    .dataframe tbody tr th {\n",
       "        vertical-align: top;\n",
       "    }\n",
       "\n",
       "    .dataframe thead th {\n",
       "        text-align: right;\n",
       "    }\n",
       "</style>\n",
       "<table border=\"1\" class=\"dataframe\">\n",
       "  <thead>\n",
       "    <tr style=\"text-align: right;\">\n",
       "      <th></th>\n",
       "      <th>cell</th>\n",
       "      <th>energy low [eV]</th>\n",
       "      <th>energy high [eV]</th>\n",
       "      <th>nuclide</th>\n",
       "      <th>score</th>\n",
       "      <th>mean</th>\n",
       "      <th>std. dev.</th>\n",
       "    </tr>\n",
       "  </thead>\n",
       "  <tbody>\n",
       "    <tr>\n",
       "      <th>0</th>\n",
       "      <td>13</td>\n",
       "      <td>0.000</td>\n",
       "      <td>6.250000e-01</td>\n",
       "      <td>(U235 / total)</td>\n",
       "      <td>(nu-fission / flux)</td>\n",
       "      <td>3.378729e-01</td>\n",
       "      <td>3.634886e-03</td>\n",
       "    </tr>\n",
       "    <tr>\n",
       "      <th>1</th>\n",
       "      <td>13</td>\n",
       "      <td>0.000</td>\n",
       "      <td>6.250000e-01</td>\n",
       "      <td>(U235 / total)</td>\n",
       "      <td>(scatter / flux)</td>\n",
       "      <td>5.535983e-03</td>\n",
       "      <td>5.604502e-05</td>\n",
       "    </tr>\n",
       "    <tr>\n",
       "      <th>2</th>\n",
       "      <td>13</td>\n",
       "      <td>0.000</td>\n",
       "      <td>6.250000e-01</td>\n",
       "      <td>(U238 / total)</td>\n",
       "      <td>(nu-fission / flux)</td>\n",
       "      <td>6.341334e-07</td>\n",
       "      <td>6.738183e-09</td>\n",
       "    </tr>\n",
       "    <tr>\n",
       "      <th>3</th>\n",
       "      <td>13</td>\n",
       "      <td>0.000</td>\n",
       "      <td>6.250000e-01</td>\n",
       "      <td>(U238 / total)</td>\n",
       "      <td>(scatter / flux)</td>\n",
       "      <td>2.098916e-01</td>\n",
       "      <td>2.123143e-03</td>\n",
       "    </tr>\n",
       "    <tr>\n",
       "      <th>4</th>\n",
       "      <td>13</td>\n",
       "      <td>0.625</td>\n",
       "      <td>2.000000e+07</td>\n",
       "      <td>(U235 / total)</td>\n",
       "      <td>(nu-fission / flux)</td>\n",
       "      <td>7.907702e-03</td>\n",
       "      <td>5.321264e-05</td>\n",
       "    </tr>\n",
       "    <tr>\n",
       "      <th>5</th>\n",
       "      <td>13</td>\n",
       "      <td>0.625</td>\n",
       "      <td>2.000000e+07</td>\n",
       "      <td>(U235 / total)</td>\n",
       "      <td>(scatter / flux)</td>\n",
       "      <td>3.401896e-03</td>\n",
       "      <td>1.789082e-05</td>\n",
       "    </tr>\n",
       "    <tr>\n",
       "      <th>6</th>\n",
       "      <td>13</td>\n",
       "      <td>0.625</td>\n",
       "      <td>2.000000e+07</td>\n",
       "      <td>(U238 / total)</td>\n",
       "      <td>(nu-fission / flux)</td>\n",
       "      <td>6.544572e-03</td>\n",
       "      <td>6.409336e-05</td>\n",
       "    </tr>\n",
       "    <tr>\n",
       "      <th>7</th>\n",
       "      <td>13</td>\n",
       "      <td>0.625</td>\n",
       "      <td>2.000000e+07</td>\n",
       "      <td>(U238 / total)</td>\n",
       "      <td>(scatter / flux)</td>\n",
       "      <td>2.291472e-01</td>\n",
       "      <td>1.175361e-03</td>\n",
       "    </tr>\n",
       "  </tbody>\n",
       "</table>\n",
       "</div>"
      ],
      "text/plain": [
       "   cell  energy low [eV]  energy high [eV]         nuclide  \\\n",
       "0    13         0.00e+00          6.25e-01  (U235 / total)   \n",
       "1    13         0.00e+00          6.25e-01  (U235 / total)   \n",
       "2    13         0.00e+00          6.25e-01  (U238 / total)   \n",
       "3    13         0.00e+00          6.25e-01  (U238 / total)   \n",
       "4    13         6.25e-01          2.00e+07  (U235 / total)   \n",
       "5    13         6.25e-01          2.00e+07  (U235 / total)   \n",
       "6    13         6.25e-01          2.00e+07  (U238 / total)   \n",
       "7    13         6.25e-01          2.00e+07  (U238 / total)   \n",
       "\n",
       "                 score     mean  std. dev.  \n",
       "0  (nu-fission / flux) 3.38e-01   3.63e-03  \n",
       "1     (scatter / flux) 5.54e-03   5.60e-05  \n",
       "2  (nu-fission / flux) 6.34e-07   6.74e-09  \n",
       "3     (scatter / flux) 2.10e-01   2.12e-03  \n",
       "4  (nu-fission / flux) 7.91e-03   5.32e-05  \n",
       "5     (scatter / flux) 3.40e-03   1.79e-05  \n",
       "6  (nu-fission / flux) 6.54e-03   6.41e-05  \n",
       "7     (scatter / flux) 2.29e-01   1.18e-03  "
      ]
     },
     "execution_count": 36,
     "metadata": {},
     "output_type": "execute_result"
    }
   ],
   "source": [
    "fuel_micro_xs = reaction_fuel / flux\n",
    "fuel_micro_xs.get_pandas_dataframe()"
   ]
  },
  {
   "cell_type": "markdown",
   "metadata": {},
   "source": [
    "We generated fission & scatter micro cross-sections above. However, if we want only fission cross-sections, we could extract them via the method below."
   ]
  },
  {
   "cell_type": "code",
   "execution_count": 38,
   "metadata": {},
   "outputs": [
    {
     "data": {
      "text/plain": [
       "array([[[3.37872856e-01],\n",
       "        [6.34133416e-07]],\n",
       "\n",
       "       [[7.90770198e-03],\n",
       "        [6.54457158e-03]]])"
      ]
     },
     "execution_count": 38,
     "metadata": {},
     "output_type": "execute_result"
    }
   ],
   "source": [
    "fission_xs = fuel_micro_xs.get_values(scores=['(nu-fission / flux)'])\n",
    "fission_xs"
   ]
  },
  {
   "cell_type": "markdown",
   "metadata": {},
   "source": [
    "which is same as"
   ]
  },
  {
   "cell_type": "code",
   "execution_count": 39,
   "metadata": {},
   "outputs": [
    {
     "data": {
      "text/html": [
       "<div>\n",
       "<style scoped>\n",
       "    .dataframe tbody tr th:only-of-type {\n",
       "        vertical-align: middle;\n",
       "    }\n",
       "\n",
       "    .dataframe tbody tr th {\n",
       "        vertical-align: top;\n",
       "    }\n",
       "\n",
       "    .dataframe thead th {\n",
       "        text-align: right;\n",
       "    }\n",
       "</style>\n",
       "<table border=\"1\" class=\"dataframe\">\n",
       "  <thead>\n",
       "    <tr style=\"text-align: right;\">\n",
       "      <th></th>\n",
       "      <th>cell</th>\n",
       "      <th>energy low [eV]</th>\n",
       "      <th>energy high [eV]</th>\n",
       "      <th>nuclide</th>\n",
       "      <th>score</th>\n",
       "      <th>mean</th>\n",
       "      <th>std. dev.</th>\n",
       "    </tr>\n",
       "  </thead>\n",
       "  <tbody>\n",
       "    <tr>\n",
       "      <th>0</th>\n",
       "      <td>13</td>\n",
       "      <td>0.000</td>\n",
       "      <td>6.250000e-01</td>\n",
       "      <td>(U235 / total)</td>\n",
       "      <td>(nu-fission / flux)</td>\n",
       "      <td>3.378729e-01</td>\n",
       "      <td>3.634886e-03</td>\n",
       "    </tr>\n",
       "    <tr>\n",
       "      <th>2</th>\n",
       "      <td>13</td>\n",
       "      <td>0.000</td>\n",
       "      <td>6.250000e-01</td>\n",
       "      <td>(U238 / total)</td>\n",
       "      <td>(nu-fission / flux)</td>\n",
       "      <td>6.341334e-07</td>\n",
       "      <td>6.738183e-09</td>\n",
       "    </tr>\n",
       "    <tr>\n",
       "      <th>4</th>\n",
       "      <td>13</td>\n",
       "      <td>0.625</td>\n",
       "      <td>2.000000e+07</td>\n",
       "      <td>(U235 / total)</td>\n",
       "      <td>(nu-fission / flux)</td>\n",
       "      <td>7.907702e-03</td>\n",
       "      <td>5.321264e-05</td>\n",
       "    </tr>\n",
       "    <tr>\n",
       "      <th>6</th>\n",
       "      <td>13</td>\n",
       "      <td>0.625</td>\n",
       "      <td>2.000000e+07</td>\n",
       "      <td>(U238 / total)</td>\n",
       "      <td>(nu-fission / flux)</td>\n",
       "      <td>6.544572e-03</td>\n",
       "      <td>6.409336e-05</td>\n",
       "    </tr>\n",
       "  </tbody>\n",
       "</table>\n",
       "</div>"
      ],
      "text/plain": [
       "   cell  energy low [eV]  energy high [eV]         nuclide  \\\n",
       "0    13            0.000      6.250000e-01  (U235 / total)   \n",
       "2    13            0.000      6.250000e-01  (U238 / total)   \n",
       "4    13            0.625      2.000000e+07  (U235 / total)   \n",
       "6    13            0.625      2.000000e+07  (U238 / total)   \n",
       "\n",
       "                 score          mean     std. dev.  \n",
       "0  (nu-fission / flux)  3.378729e-01  3.634886e-03  \n",
       "2  (nu-fission / flux)  6.341334e-07  6.738183e-09  \n",
       "4  (nu-fission / flux)  7.907702e-03  5.321264e-05  \n",
       "6  (nu-fission / flux)  6.544572e-03  6.409336e-05  "
      ]
     },
     "execution_count": 39,
     "metadata": {},
     "output_type": "execute_result"
    }
   ],
   "source": [
    "df_fuel = fuel_micro_xs.get_pandas_dataframe()\n",
    "df_fission = df_fuel[df_fuel['score'] == '(nu-fission / flux)']\n",
    "df_fission.head()"
   ]
  },
  {
   "cell_type": "code",
   "execution_count": 42,
   "metadata": {},
   "outputs": [
    {
     "data": {
      "text/plain": [
       "array([[[0.00553598]],\n",
       "\n",
       "       [[0.0034019 ]]])"
      ]
     },
     "execution_count": 42,
     "metadata": {},
     "output_type": "execute_result"
    }
   ],
   "source": [
    "u235_scatter_xs = fuel_micro_xs.get_values(\n",
    "    nuclides=['(U235 / total)'], \n",
    "    scores=['(scatter / flux)']\n",
    ")\n",
    "u238_scatter_xs = fuel_micro_xs.get_values(\n",
    "    nuclides=['(U238 / total)'], \n",
    "    scores=['(scatter / flux)']\n",
    ")\n",
    "u235_scatter_xs"
   ]
  },
  {
   "cell_type": "markdown",
   "metadata": {},
   "source": [
    "Then we generate fast scater micro cross-sections, which is identical to the cross-sections above."
   ]
  },
  {
   "cell_type": "code",
   "execution_count": 44,
   "metadata": {},
   "outputs": [
    {
     "data": {
      "text/plain": [
       "array([[[0.0034019 ],\n",
       "        [0.22914717]]])"
      ]
     },
     "execution_count": 44,
     "metadata": {},
     "output_type": "execute_result"
    }
   ],
   "source": [
    "fast_scatter_xs = fuel_micro_xs.get_values(\n",
    "    filters=[openmc.EnergyFilter],\n",
    "    filter_bins=[((0.625, 20.0e6), )],\n",
    "    scores=['(scatter / flux)']\n",
    ")\n",
    "fast_scatter_xs"
   ]
  }
 ],
 "metadata": {
  "interpreter": {
   "hash": "916dbcbb3f70747c44a77c7bcd40155683ae19c65e1c03b4aa3499c5328201f1"
  },
  "kernelspec": {
   "display_name": "Python 3.8.10 64-bit",
   "language": "python",
   "name": "python3"
  },
  "language_info": {
   "codemirror_mode": {
    "name": "ipython",
    "version": 3
   },
   "file_extension": ".py",
   "mimetype": "text/x-python",
   "name": "python",
   "nbconvert_exporter": "python",
   "pygments_lexer": "ipython3",
   "version": "3.8.10"
  },
  "orig_nbformat": 4
 },
 "nbformat": 4,
 "nbformat_minor": 2
}
